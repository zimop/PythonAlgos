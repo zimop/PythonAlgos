{
 "cells": [
  {
   "cell_type": "markdown",
   "metadata": {
    "id": "9T8YmTG4K5d1"
   },
   "source": [
    "# COMP90086 Workshop 7"
   ]
  },
  {
   "cell_type": "markdown",
   "metadata": {
    "id": "bmhzR5g9K5d3"
   },
   "source": [
    "In this workshop, you will have some practice of Hough Transform and Feature matching.\n",
    "\n",
    "Table of Contents\n",
    "\n",
    "- Hough Transform\n",
    "    - How Hough Transform works\n",
    "    - Implement Hough transform to detect lines\n",
    "\n",
    "- Feature matching\n",
    "    - Harris corning detection\n",
    "    - SIFT\n",
    "    - FLANN based Matcher\n",
    "    - Feature matching + homography to find objects\n",
    "    \n",
    "- Exercises"
   ]
  },
  {
   "cell_type": "code",
   "execution_count": 1,
   "metadata": {
    "id": "74PSeIyxL_vp"
   },
   "outputs": [],
   "source": [
    "## For colab user, run\n",
    "\n",
    "#! pip install opencv-contrib-python==4.5.2.52\n",
    "\n",
    "## After the update, You must restart the runtime in order to use newly installed versions."
   ]
  },
  {
   "cell_type": "code",
   "execution_count": 2,
   "metadata": {
    "id": "b6he1NotK5d3"
   },
   "outputs": [],
   "source": [
    "import os\n",
    "import numpy as np\n",
    "import cv2  \n",
    "from matplotlib import pyplot as plt"
   ]
  },
  {
   "cell_type": "markdown",
   "metadata": {
    "id": "NWQMzW27K5d4"
   },
   "source": [
    "# Hough Transform"
   ]
  },
  {
   "cell_type": "markdown",
   "metadata": {
    "id": "CrZeY_goK5d4"
   },
   "source": [
    "##  (1) How Hough Transform works\n",
    "\n",
    "6 mins Introduction Video - \"How Hough Transform works\""
   ]
  },
  {
   "cell_type": "code",
   "execution_count": 3,
   "metadata": {
    "colab": {
     "base_uri": "https://localhost:8080/",
     "height": 417
    },
    "id": "dKZsIf77K5d5",
    "outputId": "81381d3e-55eb-40f3-8687-b2919dd814ce"
   },
   "outputs": [
    {
     "data": {
      "image/jpeg": "[encoded data removed]",
      "text/html": [
       "\n",
       "        <iframe\n",
       "            width=\"600\"\n",
       "            height=\"397\"\n",
       "            src=\"https://www.youtube.com/embed/4zHbI-fFIlI\"\n",
       "            frameborder=\"0\"\n",
       "            allowfullscreen\n",
       "            \n",
       "        ></iframe>\n",
       "        "
      ],
      "text/plain": [
       "<IPython.lib.display.YouTubeVideo at 0x2819b22bd00>"
      ]
     },
     "execution_count": 3,
     "metadata": {},
     "output_type": "execute_result"
    }
   ],
   "source": [
    "# How Hough Transform works?\n",
    "# By Thales Sehn Körting (YouTube)\n",
    "\n",
    "from IPython.display import YouTubeVideo\n",
    "\n",
    "YouTubeVideo('4zHbI-fFIlI', width=600, height=397)"
   ]
  },
  {
   "cell_type": "markdown",
   "metadata": {},
   "source": [
    "<center>Implementing a mapping between a Cartesian coordinate system and its parameter space.</center>\n",
    "<center>y=kx+b --> b=-kx+y</center>\n",
    "<center>Lines with slope k that do not exist cannot be described under the parameter space (The corresponding lines of M and Z in parameter space are parallel)</center>\n",
    "<img style=\"float:  \" src=\"https://raw.githubusercontent.com/saraao/COMP90086_image/main/Hough.png\" width=500>"
   ]
  },
  {
   "cell_type": "markdown",
   "metadata": {},
   "source": [
    "<center>Cartesian coordinates mapped to a parameter space under a polar coordinate system</center>\n",
    "<center>for each point (x0,y0) --> rθ=x0⋅cosθ+y0⋅sinθ</center>\n",
    "<center>each pair (rθ,θ) represents each line that passes by (x0,y0).</center>\n",
    "<img style=\"float:  \" src=\"https://raw.githubusercontent.com/saraao/COMP90086_image/main/hough_space.png\" width=500>"
   ]
  },
  {
   "cell_type": "markdown",
   "metadata": {},
   "source": [
    "<center>for lines parallel to the X or Y axis can also be well mapped to the parameter space to ensure that they have intersection points</center>\n",
    "<img style=\"float:  \" src=\"https://raw.githubusercontent.com/saraao/COMP90086_image/main/hough_a.jpeg\" width=500>"
   ]
  },
  {
   "cell_type": "markdown",
   "metadata": {
    "id": "jVLl_DkrK5d5"
   },
   "source": [
    "## (2) Implement Hough transform to detect lines"
   ]
  },
  {
   "cell_type": "markdown",
   "metadata": {
    "id": "zTNE6-P_K5d6"
   },
   "source": [
    "First, we detect the edges of the image by using the Canny edge detector."
   ]
  },
  {
   "cell_type": "code",
   "execution_count": 4,
   "metadata": {
    "colab": {
     "base_uri": "https://localhost:8080/",
     "height": 301
    },
    "id": "Rrv6tzWBK5d6",
    "outputId": "0e8c5c7e-f6a7-43be-ce93-987544fcb3db"
   },
   "outputs": [
    {
     "ename": "TypeError",
     "evalue": "Image data of dtype object cannot be converted to float",
     "output_type": "error",
     "traceback": [
      "\u001b[1;31m---------------------------------------------------------------------------\u001b[0m",
      "\u001b[1;31mTypeError\u001b[0m                                 Traceback (most recent call last)",
      "Cell \u001b[1;32mIn[4], line 12\u001b[0m\n\u001b[0;32m      9\u001b[0m plt\u001b[38;5;241m.\u001b[39msubplots(figsize\u001b[38;5;241m=\u001b[39m(\u001b[38;5;241m15\u001b[39m, \u001b[38;5;241m15\u001b[39m)) \n\u001b[0;32m     11\u001b[0m plt\u001b[38;5;241m.\u001b[39msubplot(\u001b[38;5;241m1\u001b[39m,\u001b[38;5;241m2\u001b[39m,\u001b[38;5;241m1\u001b[39m)\n\u001b[1;32m---> 12\u001b[0m \u001b[43mplt\u001b[49m\u001b[38;5;241;43m.\u001b[39;49m\u001b[43mimshow\u001b[49m\u001b[43m(\u001b[49m\u001b[43mgray\u001b[49m\u001b[43m,\u001b[49m\u001b[43m \u001b[49m\u001b[43mcmap\u001b[49m\u001b[38;5;241;43m=\u001b[39;49m\u001b[38;5;124;43m'\u001b[39;49m\u001b[38;5;124;43mgray\u001b[39;49m\u001b[38;5;124;43m'\u001b[39;49m\u001b[43m)\u001b[49m  \n\u001b[0;32m     13\u001b[0m plt\u001b[38;5;241m.\u001b[39mtitle(\u001b[38;5;124m'\u001b[39m\u001b[38;5;124mOriginal image\u001b[39m\u001b[38;5;124m'\u001b[39m)\n\u001b[0;32m     14\u001b[0m plt\u001b[38;5;241m.\u001b[39maxis(\u001b[38;5;124m'\u001b[39m\u001b[38;5;124moff\u001b[39m\u001b[38;5;124m'\u001b[39m)\n",
      "File \u001b[1;32m~\\anaconda3\\envs\\CV\\lib\\site-packages\\matplotlib\\_api\\deprecation.py:459\u001b[0m, in \u001b[0;36mmake_keyword_only.<locals>.wrapper\u001b[1;34m(*args, **kwargs)\u001b[0m\n\u001b[0;32m    453\u001b[0m \u001b[38;5;28;01mif\u001b[39;00m \u001b[38;5;28mlen\u001b[39m(args) \u001b[38;5;241m>\u001b[39m name_idx:\n\u001b[0;32m    454\u001b[0m     warn_deprecated(\n\u001b[0;32m    455\u001b[0m         since, message\u001b[38;5;241m=\u001b[39m\u001b[38;5;124m\"\u001b[39m\u001b[38;5;124mPassing the \u001b[39m\u001b[38;5;132;01m%(name)s\u001b[39;00m\u001b[38;5;124m \u001b[39m\u001b[38;5;132;01m%(obj_type)s\u001b[39;00m\u001b[38;5;124m \u001b[39m\u001b[38;5;124m\"\u001b[39m\n\u001b[0;32m    456\u001b[0m         \u001b[38;5;124m\"\u001b[39m\u001b[38;5;124mpositionally is deprecated since Matplotlib \u001b[39m\u001b[38;5;132;01m%(since)s\u001b[39;00m\u001b[38;5;124m; the \u001b[39m\u001b[38;5;124m\"\u001b[39m\n\u001b[0;32m    457\u001b[0m         \u001b[38;5;124m\"\u001b[39m\u001b[38;5;124mparameter will become keyword-only \u001b[39m\u001b[38;5;132;01m%(removal)s\u001b[39;00m\u001b[38;5;124m.\u001b[39m\u001b[38;5;124m\"\u001b[39m,\n\u001b[0;32m    458\u001b[0m         name\u001b[38;5;241m=\u001b[39mname, obj_type\u001b[38;5;241m=\u001b[39m\u001b[38;5;124mf\u001b[39m\u001b[38;5;124m\"\u001b[39m\u001b[38;5;124mparameter of \u001b[39m\u001b[38;5;132;01m{\u001b[39;00mfunc\u001b[38;5;241m.\u001b[39m\u001b[38;5;18m__name__\u001b[39m\u001b[38;5;132;01m}\u001b[39;00m\u001b[38;5;124m()\u001b[39m\u001b[38;5;124m\"\u001b[39m)\n\u001b[1;32m--> 459\u001b[0m \u001b[38;5;28;01mreturn\u001b[39;00m func(\u001b[38;5;241m*\u001b[39margs, \u001b[38;5;241m*\u001b[39m\u001b[38;5;241m*\u001b[39mkwargs)\n",
      "File \u001b[1;32m~\\anaconda3\\envs\\CV\\lib\\site-packages\\matplotlib\\pyplot.py:2650\u001b[0m, in \u001b[0;36mimshow\u001b[1;34m(X, cmap, norm, aspect, interpolation, alpha, vmin, vmax, origin, extent, interpolation_stage, filternorm, filterrad, resample, url, data, **kwargs)\u001b[0m\n\u001b[0;32m   2644\u001b[0m \u001b[38;5;129m@_copy_docstring_and_deprecators\u001b[39m(Axes\u001b[38;5;241m.\u001b[39mimshow)\n\u001b[0;32m   2645\u001b[0m \u001b[38;5;28;01mdef\u001b[39;00m \u001b[38;5;21mimshow\u001b[39m(\n\u001b[0;32m   2646\u001b[0m         X, cmap\u001b[38;5;241m=\u001b[39m\u001b[38;5;28;01mNone\u001b[39;00m, norm\u001b[38;5;241m=\u001b[39m\u001b[38;5;28;01mNone\u001b[39;00m, aspect\u001b[38;5;241m=\u001b[39m\u001b[38;5;28;01mNone\u001b[39;00m, interpolation\u001b[38;5;241m=\u001b[39m\u001b[38;5;28;01mNone\u001b[39;00m,\n\u001b[0;32m   2647\u001b[0m         alpha\u001b[38;5;241m=\u001b[39m\u001b[38;5;28;01mNone\u001b[39;00m, vmin\u001b[38;5;241m=\u001b[39m\u001b[38;5;28;01mNone\u001b[39;00m, vmax\u001b[38;5;241m=\u001b[39m\u001b[38;5;28;01mNone\u001b[39;00m, origin\u001b[38;5;241m=\u001b[39m\u001b[38;5;28;01mNone\u001b[39;00m, extent\u001b[38;5;241m=\u001b[39m\u001b[38;5;28;01mNone\u001b[39;00m, \u001b[38;5;241m*\u001b[39m,\n\u001b[0;32m   2648\u001b[0m         interpolation_stage\u001b[38;5;241m=\u001b[39m\u001b[38;5;28;01mNone\u001b[39;00m, filternorm\u001b[38;5;241m=\u001b[39m\u001b[38;5;28;01mTrue\u001b[39;00m, filterrad\u001b[38;5;241m=\u001b[39m\u001b[38;5;241m4.0\u001b[39m,\n\u001b[0;32m   2649\u001b[0m         resample\u001b[38;5;241m=\u001b[39m\u001b[38;5;28;01mNone\u001b[39;00m, url\u001b[38;5;241m=\u001b[39m\u001b[38;5;28;01mNone\u001b[39;00m, data\u001b[38;5;241m=\u001b[39m\u001b[38;5;28;01mNone\u001b[39;00m, \u001b[38;5;241m*\u001b[39m\u001b[38;5;241m*\u001b[39mkwargs):\n\u001b[1;32m-> 2650\u001b[0m     __ret \u001b[38;5;241m=\u001b[39m gca()\u001b[38;5;241m.\u001b[39mimshow(\n\u001b[0;32m   2651\u001b[0m         X, cmap\u001b[38;5;241m=\u001b[39mcmap, norm\u001b[38;5;241m=\u001b[39mnorm, aspect\u001b[38;5;241m=\u001b[39maspect,\n\u001b[0;32m   2652\u001b[0m         interpolation\u001b[38;5;241m=\u001b[39minterpolation, alpha\u001b[38;5;241m=\u001b[39malpha, vmin\u001b[38;5;241m=\u001b[39mvmin,\n\u001b[0;32m   2653\u001b[0m         vmax\u001b[38;5;241m=\u001b[39mvmax, origin\u001b[38;5;241m=\u001b[39morigin, extent\u001b[38;5;241m=\u001b[39mextent,\n\u001b[0;32m   2654\u001b[0m         interpolation_stage\u001b[38;5;241m=\u001b[39minterpolation_stage,\n\u001b[0;32m   2655\u001b[0m         filternorm\u001b[38;5;241m=\u001b[39mfilternorm, filterrad\u001b[38;5;241m=\u001b[39mfilterrad, resample\u001b[38;5;241m=\u001b[39mresample,\n\u001b[0;32m   2656\u001b[0m         url\u001b[38;5;241m=\u001b[39murl, \u001b[38;5;241m*\u001b[39m\u001b[38;5;241m*\u001b[39m({\u001b[38;5;124m\"\u001b[39m\u001b[38;5;124mdata\u001b[39m\u001b[38;5;124m\"\u001b[39m: data} \u001b[38;5;28;01mif\u001b[39;00m data \u001b[38;5;129;01mis\u001b[39;00m \u001b[38;5;129;01mnot\u001b[39;00m \u001b[38;5;28;01mNone\u001b[39;00m \u001b[38;5;28;01melse\u001b[39;00m {}),\n\u001b[0;32m   2657\u001b[0m         \u001b[38;5;241m*\u001b[39m\u001b[38;5;241m*\u001b[39mkwargs)\n\u001b[0;32m   2658\u001b[0m     sci(__ret)\n\u001b[0;32m   2659\u001b[0m     \u001b[38;5;28;01mreturn\u001b[39;00m __ret\n",
      "File \u001b[1;32m~\\anaconda3\\envs\\CV\\lib\\site-packages\\matplotlib\\_api\\deprecation.py:459\u001b[0m, in \u001b[0;36mmake_keyword_only.<locals>.wrapper\u001b[1;34m(*args, **kwargs)\u001b[0m\n\u001b[0;32m    453\u001b[0m \u001b[38;5;28;01mif\u001b[39;00m \u001b[38;5;28mlen\u001b[39m(args) \u001b[38;5;241m>\u001b[39m name_idx:\n\u001b[0;32m    454\u001b[0m     warn_deprecated(\n\u001b[0;32m    455\u001b[0m         since, message\u001b[38;5;241m=\u001b[39m\u001b[38;5;124m\"\u001b[39m\u001b[38;5;124mPassing the \u001b[39m\u001b[38;5;132;01m%(name)s\u001b[39;00m\u001b[38;5;124m \u001b[39m\u001b[38;5;132;01m%(obj_type)s\u001b[39;00m\u001b[38;5;124m \u001b[39m\u001b[38;5;124m\"\u001b[39m\n\u001b[0;32m    456\u001b[0m         \u001b[38;5;124m\"\u001b[39m\u001b[38;5;124mpositionally is deprecated since Matplotlib \u001b[39m\u001b[38;5;132;01m%(since)s\u001b[39;00m\u001b[38;5;124m; the \u001b[39m\u001b[38;5;124m\"\u001b[39m\n\u001b[0;32m    457\u001b[0m         \u001b[38;5;124m\"\u001b[39m\u001b[38;5;124mparameter will become keyword-only \u001b[39m\u001b[38;5;132;01m%(removal)s\u001b[39;00m\u001b[38;5;124m.\u001b[39m\u001b[38;5;124m\"\u001b[39m,\n\u001b[0;32m    458\u001b[0m         name\u001b[38;5;241m=\u001b[39mname, obj_type\u001b[38;5;241m=\u001b[39m\u001b[38;5;124mf\u001b[39m\u001b[38;5;124m\"\u001b[39m\u001b[38;5;124mparameter of \u001b[39m\u001b[38;5;132;01m{\u001b[39;00mfunc\u001b[38;5;241m.\u001b[39m\u001b[38;5;18m__name__\u001b[39m\u001b[38;5;132;01m}\u001b[39;00m\u001b[38;5;124m()\u001b[39m\u001b[38;5;124m\"\u001b[39m)\n\u001b[1;32m--> 459\u001b[0m \u001b[38;5;28;01mreturn\u001b[39;00m func(\u001b[38;5;241m*\u001b[39margs, \u001b[38;5;241m*\u001b[39m\u001b[38;5;241m*\u001b[39mkwargs)\n",
      "File \u001b[1;32m~\\anaconda3\\envs\\CV\\lib\\site-packages\\matplotlib\\__init__.py:1414\u001b[0m, in \u001b[0;36m_preprocess_data.<locals>.inner\u001b[1;34m(ax, data, *args, **kwargs)\u001b[0m\n\u001b[0;32m   1411\u001b[0m \u001b[38;5;129m@functools\u001b[39m\u001b[38;5;241m.\u001b[39mwraps(func)\n\u001b[0;32m   1412\u001b[0m \u001b[38;5;28;01mdef\u001b[39;00m \u001b[38;5;21minner\u001b[39m(ax, \u001b[38;5;241m*\u001b[39margs, data\u001b[38;5;241m=\u001b[39m\u001b[38;5;28;01mNone\u001b[39;00m, \u001b[38;5;241m*\u001b[39m\u001b[38;5;241m*\u001b[39mkwargs):\n\u001b[0;32m   1413\u001b[0m     \u001b[38;5;28;01mif\u001b[39;00m data \u001b[38;5;129;01mis\u001b[39;00m \u001b[38;5;28;01mNone\u001b[39;00m:\n\u001b[1;32m-> 1414\u001b[0m         \u001b[38;5;28;01mreturn\u001b[39;00m func(ax, \u001b[38;5;241m*\u001b[39m\u001b[38;5;28mmap\u001b[39m(sanitize_sequence, args), \u001b[38;5;241m*\u001b[39m\u001b[38;5;241m*\u001b[39mkwargs)\n\u001b[0;32m   1416\u001b[0m     bound \u001b[38;5;241m=\u001b[39m new_sig\u001b[38;5;241m.\u001b[39mbind(ax, \u001b[38;5;241m*\u001b[39margs, \u001b[38;5;241m*\u001b[39m\u001b[38;5;241m*\u001b[39mkwargs)\n\u001b[0;32m   1417\u001b[0m     auto_label \u001b[38;5;241m=\u001b[39m (bound\u001b[38;5;241m.\u001b[39marguments\u001b[38;5;241m.\u001b[39mget(label_namer)\n\u001b[0;32m   1418\u001b[0m                   \u001b[38;5;129;01mor\u001b[39;00m bound\u001b[38;5;241m.\u001b[39mkwargs\u001b[38;5;241m.\u001b[39mget(label_namer))\n",
      "File \u001b[1;32m~\\anaconda3\\envs\\CV\\lib\\site-packages\\matplotlib\\axes\\_axes.py:5487\u001b[0m, in \u001b[0;36mAxes.imshow\u001b[1;34m(self, X, cmap, norm, aspect, interpolation, alpha, vmin, vmax, origin, extent, interpolation_stage, filternorm, filterrad, resample, url, **kwargs)\u001b[0m\n\u001b[0;32m   5480\u001b[0m \u001b[38;5;28mself\u001b[39m\u001b[38;5;241m.\u001b[39mset_aspect(aspect)\n\u001b[0;32m   5481\u001b[0m im \u001b[38;5;241m=\u001b[39m mimage\u001b[38;5;241m.\u001b[39mAxesImage(\u001b[38;5;28mself\u001b[39m, cmap, norm, interpolation,\n\u001b[0;32m   5482\u001b[0m                       origin, extent, filternorm\u001b[38;5;241m=\u001b[39mfilternorm,\n\u001b[0;32m   5483\u001b[0m                       filterrad\u001b[38;5;241m=\u001b[39mfilterrad, resample\u001b[38;5;241m=\u001b[39mresample,\n\u001b[0;32m   5484\u001b[0m                       interpolation_stage\u001b[38;5;241m=\u001b[39minterpolation_stage,\n\u001b[0;32m   5485\u001b[0m                       \u001b[38;5;241m*\u001b[39m\u001b[38;5;241m*\u001b[39mkwargs)\n\u001b[1;32m-> 5487\u001b[0m \u001b[43mim\u001b[49m\u001b[38;5;241;43m.\u001b[39;49m\u001b[43mset_data\u001b[49m\u001b[43m(\u001b[49m\u001b[43mX\u001b[49m\u001b[43m)\u001b[49m\n\u001b[0;32m   5488\u001b[0m im\u001b[38;5;241m.\u001b[39mset_alpha(alpha)\n\u001b[0;32m   5489\u001b[0m \u001b[38;5;28;01mif\u001b[39;00m im\u001b[38;5;241m.\u001b[39mget_clip_path() \u001b[38;5;129;01mis\u001b[39;00m \u001b[38;5;28;01mNone\u001b[39;00m:\n\u001b[0;32m   5490\u001b[0m     \u001b[38;5;66;03m# image does not already have clipping set, clip to axes patch\u001b[39;00m\n",
      "File \u001b[1;32m~\\anaconda3\\envs\\CV\\lib\\site-packages\\matplotlib\\image.py:706\u001b[0m, in \u001b[0;36m_ImageBase.set_data\u001b[1;34m(self, A)\u001b[0m\n\u001b[0;32m    702\u001b[0m \u001b[38;5;28mself\u001b[39m\u001b[38;5;241m.\u001b[39m_A \u001b[38;5;241m=\u001b[39m cbook\u001b[38;5;241m.\u001b[39msafe_masked_invalid(A, copy\u001b[38;5;241m=\u001b[39m\u001b[38;5;28;01mTrue\u001b[39;00m)\n\u001b[0;32m    704\u001b[0m \u001b[38;5;28;01mif\u001b[39;00m (\u001b[38;5;28mself\u001b[39m\u001b[38;5;241m.\u001b[39m_A\u001b[38;5;241m.\u001b[39mdtype \u001b[38;5;241m!=\u001b[39m np\u001b[38;5;241m.\u001b[39muint8 \u001b[38;5;129;01mand\u001b[39;00m\n\u001b[0;32m    705\u001b[0m         \u001b[38;5;129;01mnot\u001b[39;00m np\u001b[38;5;241m.\u001b[39mcan_cast(\u001b[38;5;28mself\u001b[39m\u001b[38;5;241m.\u001b[39m_A\u001b[38;5;241m.\u001b[39mdtype, \u001b[38;5;28mfloat\u001b[39m, \u001b[38;5;124m\"\u001b[39m\u001b[38;5;124msame_kind\u001b[39m\u001b[38;5;124m\"\u001b[39m)):\n\u001b[1;32m--> 706\u001b[0m     \u001b[38;5;28;01mraise\u001b[39;00m \u001b[38;5;167;01mTypeError\u001b[39;00m(\u001b[38;5;124m\"\u001b[39m\u001b[38;5;124mImage data of dtype \u001b[39m\u001b[38;5;132;01m{}\u001b[39;00m\u001b[38;5;124m cannot be converted to \u001b[39m\u001b[38;5;124m\"\u001b[39m\n\u001b[0;32m    707\u001b[0m                     \u001b[38;5;124m\"\u001b[39m\u001b[38;5;124mfloat\u001b[39m\u001b[38;5;124m\"\u001b[39m\u001b[38;5;241m.\u001b[39mformat(\u001b[38;5;28mself\u001b[39m\u001b[38;5;241m.\u001b[39m_A\u001b[38;5;241m.\u001b[39mdtype))\n\u001b[0;32m    709\u001b[0m \u001b[38;5;28;01mif\u001b[39;00m \u001b[38;5;28mself\u001b[39m\u001b[38;5;241m.\u001b[39m_A\u001b[38;5;241m.\u001b[39mndim \u001b[38;5;241m==\u001b[39m \u001b[38;5;241m3\u001b[39m \u001b[38;5;129;01mand\u001b[39;00m \u001b[38;5;28mself\u001b[39m\u001b[38;5;241m.\u001b[39m_A\u001b[38;5;241m.\u001b[39mshape[\u001b[38;5;241m-\u001b[39m\u001b[38;5;241m1\u001b[39m] \u001b[38;5;241m==\u001b[39m \u001b[38;5;241m1\u001b[39m:\n\u001b[0;32m    710\u001b[0m     \u001b[38;5;66;03m# If just one dimension assume scalar and apply colormap\u001b[39;00m\n\u001b[0;32m    711\u001b[0m     \u001b[38;5;28mself\u001b[39m\u001b[38;5;241m.\u001b[39m_A \u001b[38;5;241m=\u001b[39m \u001b[38;5;28mself\u001b[39m\u001b[38;5;241m.\u001b[39m_A[:, :, \u001b[38;5;241m0\u001b[39m]\n",
      "\u001b[1;31mTypeError\u001b[0m: Image data of dtype object cannot be converted to float"
     ]
    },
    {
     "data": {
      "image/png": "[encoded data removed]",
      "text/plain": [
       "<Figure size 1500x1500 with 1 Axes>"
      ]
     },
     "metadata": {},
     "output_type": "display_data"
    }
   ],
   "source": [
    "#read in an image from a filepath as graycsale.\n",
    "rootpath='./'\n",
    "gray = cv2.imread(os.path.join(rootpath, \"canny_im.png\"),cv2.IMREAD_GRAYSCALE)\n",
    "\n",
    "# Canny edge detection with OpenCV\n",
    "edge_img = cv2.Canny(gray,100,150,apertureSize=3,L2gradient=True) #two thresholds in Hysteresis Thresholding and Aperture size of the Sobel\n",
    "\n",
    "# Set the Figure size of plotting\n",
    "plt.subplots(figsize=(15, 15)) \n",
    "\n",
    "plt.subplot(1,2,1)\n",
    "plt.imshow(gray, cmap='gray')  \n",
    "plt.title('Original image')\n",
    "plt.axis('off')\n",
    "\n",
    "plt.subplot(1,2,2)\n",
    "plt.imshow(edge_img, cmap='gray')  \n",
    "plt.title('Canny edge map')\n",
    "plt.axis('off')\n",
    "\n",
    "plt.show() "
   ]
  },
  {
   "cell_type": "markdown",
   "metadata": {
    "id": "YPpHbndyK5d7"
   },
   "source": [
    "Then, we apply Standard Hough Line Transform using the OpenCV functions, cv2.HoughLines(image, rho, theta, threshold) with the following arguments:\n",
    "\n",
    "- image: Output of the edge detector, a single-channel binary source image.\n",
    "\n",
    "- rho: The resolution of the parameter ρ in pixels. We use 1 pixel.\n",
    "\n",
    "- theta: The resolution of the parameter θ in radians. We use 1 degree.\n",
    "\n",
    "- threshold: The minimum number of intersections to \"*detect*\" a line. In other words, only those lines are returned that get enough votes (>threshold).\n",
    "\n",
    "\n",
    "For further understanding, see:\n",
    "- [Hough Transform](http://homepages.inf.ed.ac.uk/rbf/HIPR2/hough.htm).\n",
    "- [cv2.HoughLines( )](https://docs.opencv.org/4.5.2/dd/d1a/group__imgproc__feature.html#ga46b4e588934f6c8dfd509cc6e0e4545a)"
   ]
  },
  {
   "cell_type": "markdown",
   "metadata": {},
   "source": [
    "<img style=\"float:  \" src=\"https://docs.opencv.org/4.5.2/Hough_Lines_Tutorial_Theory_0.jpg\" width=300>\n",
    "(Image source: OpenCV)"
   ]
  },
  {
   "cell_type": "markdown",
   "metadata": {},
   "source": [
    "**Change the threshold and see what happens!**"
   ]
  },
  {
   "cell_type": "code",
   "execution_count": null,
   "metadata": {},
   "outputs": [],
   "source": [
    "thres = 200"
   ]
  },
  {
   "cell_type": "code",
   "execution_count": null,
   "metadata": {
    "id": "Wjy0sToUK5d7"
   },
   "outputs": [],
   "source": [
    "#Implement Hough transform to detect lines in a Canny edge map \n",
    "\n",
    "# Finds lines in a binary image using the standard Hough transform\n",
    "lines = cv2.HoughLines(edge_img, 1, np.pi/180, thres)  \n",
    "# This function outputs vector of detected lines. \n",
    "# Each line is represented by a vector (ρ,θ). \n",
    "# Whereas ρ/rho is the distance from the coordinate origin (0,0) \n",
    "# and θ/theta is the line rotation angle in radians ( 0∼vertical line,π/2∼horizontal line )."
   ]
  },
  {
   "cell_type": "markdown",
   "metadata": {
    "id": "RQx134chK5d7"
   },
   "source": [
    "Now, we display the result by drawing detected lines on the original image"
   ]
  },
  {
   "cell_type": "code",
   "execution_count": null,
   "metadata": {
    "colab": {
     "base_uri": "https://localhost:8080/",
     "height": 264
    },
    "id": "aN5o1AUEK5d8",
    "outputId": "e9c52469-1c46-4aa1-b26d-0e563c239f29"
   },
   "outputs": [],
   "source": [
    "# (Optional) To better distinguish the detected lines from the background, \n",
    "# we will draw the lines in colour. \n",
    "# Therefore, we first convert the grayscale map to RGB format.\n",
    "color_img = cv2.cvtColor(gray, cv2.COLOR_GRAY2RGB) \n",
    "\n",
    "# Display by drawing the lines\n",
    "for line in lines:\n",
    "    rho,theta = line[0]\n",
    "    a = np.cos(theta)\n",
    "    b = np.sin(theta)\n",
    "    x0 = a*rho\n",
    "    y0 = b*rho\n",
    "    pt1 = (int(x0 + 1000*(-b)),int(y0 + 1000*(a)))\n",
    "    pt2 = (int(x0 - 1000*(-b)),int(y0 - 1000*(a)))\n",
    "    # Draws a line segment connecting two points, colour=(255,0,0) and thickness=2.\n",
    "    cv2.line(color_img,pt1,pt2,(255,0,0),2)\n",
    "\n",
    "plt.imshow(color_img) \n",
    "plt.title(\"Detected Lines (in red)\")\n",
    "plt.axis('off')\n",
    "\n",
    "plt.show() "
   ]
  },
  {
   "cell_type": "markdown",
   "metadata": {
    "id": "mCXFz3L_K5d8"
   },
   "source": [
    "# Feature matching"
   ]
  },
  {
   "cell_type": "markdown",
   "metadata": {},
   "source": [
    "Corners (E and F) are easier to isolate and locate in the image than other features, which makes them better features to detect. \n",
    "\n",
    "(Image: A. Mordvintsev and A. K. Revision). \n",
    "<img style=\"float: \" src=\"https://raw.githubusercontent.com/saraao/COMP90086_image/main/building_corner.jpeg\" width=500>"
   ]
  },
  {
   "cell_type": "markdown",
   "metadata": {},
   "source": [
    "<img style=\"float: \" src=\"https://raw.githubusercontent.com/saraao/COMP90086_image/main/corner.jpeg\" width=500>\n",
    "(Image: Moravec 1980)\n",
    "\n",
    "Corners are the important features in the image, and they are generally termed as interest points which are invariant to translation, rotation, and illumination."
   ]
  },
  {
   "cell_type": "markdown",
   "metadata": {
    "id": "Gz0-pQtPK5d8"
   },
   "source": [
    "## (1) Harris corner detection"
   ]
  },
  {
   "cell_type": "markdown",
   "metadata": {
    "id": "wz4N63tDK5d8"
   },
   "source": [
    "We apply Harris Corner Detection using the OpenCV functions, cv2.cornerHarris(image, blockSize, ksize, k) with the following arguments:\n",
    "\n",
    "- img: A single-channel float32 input image.\n",
    "- blockSize: Neighborhood size for corner detection.\n",
    "- ksize: Aperture parameter for the Sobel operator.\n",
    "- k: Harris detector free parameter in the equation. Often between 0.04 and 0.06.\n",
    "\n",
    "For further understanding, see:\n",
    "- [cv2.cornerHarris( )](https://docs.opencv.org/4.5.2/dc/d0d/tutorial_py_features_harris.html)"
   ]
  },
  {
   "cell_type": "code",
   "execution_count": null,
   "metadata": {
    "colab": {
     "base_uri": "https://localhost:8080/",
     "height": 184
    },
    "id": "ewIdvn6lK5d8",
    "outputId": "1f7ef18f-32ec-471b-ee68-ea5b357c4fb2"
   },
   "outputs": [],
   "source": [
    "# Read in an image from a filepath as graycsale.\n",
    "rootpath='./'\n",
    "img = cv2.imread(os.path.join(rootpath, \"central.png\"))\n",
    "\n",
    "# detector parameters\n",
    "block_size = 2\n",
    "sobel_size = 3\n",
    "k = 0.04\n",
    "\n",
    "# Convert the colour from BGR to RGB for display\n",
    "color_img = cv2.cvtColor(img, cv2.COLOR_BGR2RGB)\n",
    "\n",
    "# Convert the colour to grayscale & 32-bit float\n",
    "gray_img = cv2.cvtColor(img,cv2.COLOR_BGR2GRAY)\n",
    "gray_img = np.float32(gray_img)\n",
    "\n",
    "# Detect corners with custom detector parameters\n",
    "dst = cv2.cornerHarris(gray_img, block_size, sobel_size, k)\n",
    "\n",
    "# Dilate corner image to enhance corner points, not necessary\n",
    "#kernel = np.ones((3, 3), np.uint8) # The larger the size of the kernel, the greater the dilation\n",
    "#dst = cv2.dilate(dst, kernel)\n",
    "# Try to run the above codes to see what happens on the “Detected corners” map.\n",
    "\n",
    "# Create a copy of the image and draw corners on it\n",
    "corner_image = np.copy(color_img)\n",
    "\n",
    "# Vary the threshold according to the image and the number of corners you want to detect\n",
    "# The corners are drawn on the image if they pass the threshold\n",
    "thresh = 0.1\n",
    "corner_image[dst>thresh*dst.max()]=[0,255,0] # marking the corners in Green\n",
    "# Try to change the threshold to see what happens.\n",
    "\n",
    "plt.subplots(figsize=(15, 15)) \n",
    "\n",
    "plt.subplot(1,3,1)\n",
    "plt.imshow(color_img)\n",
    "plt.title('Original image')\n",
    "plt.axis('off')\n",
    "\n",
    "plt.subplot(1,3,2)\n",
    "plt.imshow(dst, cmap='gray')  \n",
    "plt.title('Detected corners')\n",
    "plt.axis('off')\n",
    "\n",
    "plt.subplot(1,3,3)\n",
    "plt.imshow(corner_image)\n",
    "plt.title('Display strong corners on the original image')\n",
    "plt.axis('off')\n",
    "\n",
    "plt.show() "
   ]
  },
  {
   "cell_type": "markdown",
   "metadata": {
    "id": "ABsMIFioK5d9"
   },
   "source": [
    "## (2) SIFT"
   ]
  },
  {
   "cell_type": "markdown",
   "metadata": {
    "id": "n84yhTmQK5d9"
   },
   "source": [
    "#### Harris corner detection is not scale invariant, so it is not applicable when the scale of the image changes. To find scale-invariant features, an algorithm called Scale Invariant Feature Transform (SIFT) was proposed by D.Lowe.\n",
    "\n",
    "<img style=\"float: \" src=\"https://miro.medium.com/max/1400/1*nkJt5BX6WJEDbVAl-fOE0A.png\" width=500>\n",
    "\n",
    "(Image Source: These images appears in many places, including [here](https://medium.com/jun94-devpblog/cv-12-scale-invariant-local-feature-extraction-2-harris-laplace-170d48ee1bf1))\n",
    "\n",
    "Harris corner point detection is rotationally invariant, but not scale invariant. As shown in the figure below, corner points at small scales may be assumed to be edges when they are zoomed in.\n",
    "\n",
    "\n",
    "For further understanding, see:\n",
    "- [SIFT](https://docs.opencv.org/4.5.2/da/df5/tutorial_py_sift_intro.html)\n",
    "\n",
    "More information on the functions used below, see:\n",
    "- [cv2.pyrDown( )](https://docs.opencv.org/4.5.2/d4/d86/group__imgproc__filter.html#gaf9bba239dfca11654cb7f50f889fc2ff)\n",
    "- [cv2.getRotationMatrix2D( )](https://docs.opencv.org/4.5.2/da/d54/group__imgproc__transform.html#gafbbc470ce83812914a70abfb604f4326)\n",
    "- [cv2.warpAffine( )](https://docs.opencv.org/4.5.2/da/d54/group__imgproc__transform.html#ga0203d9ee5fcd28d40dbc4a1ea4451983)\n",
    "- [cv2.drawKeypoints( )](https://docs.opencv.org/4.5.2/d4/d5d/group__features2d__draw.html#ga5d2bafe8c1c45289bc3403a40fb88920)"
   ]
  },
  {
   "cell_type": "code",
   "execution_count": null,
   "metadata": {
    "colab": {
     "base_uri": "https://localhost:8080/",
     "height": 35
    },
    "id": "B91u7AQiK5d9",
    "outputId": "152f8a86-8c06-4ed1-819f-ec4357cc3306"
   },
   "outputs": [],
   "source": [
    "# Check your cv2 version\n",
    "cv2.__version__  \n",
    "# Note that these were previously only available in the opencv contrib repo, \n",
    "# but the patent expired in the year 2020. So they are now included in the main repo. \n",
    "\n",
    "# For those who are using OpenCV versions released before 2020 (e.g. cv2.__version__ == 4.2.x ), \n",
    "# they might got \"AttributeError: module 'cv2' has no attribute 'SIFT_create' \".  \n",
    "\n",
    "# To solve this problem, one possible solution is to uninstall Anaconda and reinstall to the latest version.\n",
    "# Then follow the Week 1 guide “Getting set up for workshops”"
   ]
  },
  {
   "cell_type": "markdown",
   "metadata": {
    "id": "oxRG_TPkK5d9"
   },
   "source": [
    "Display original image and scene image"
   ]
  },
  {
   "cell_type": "code",
   "execution_count": null,
   "metadata": {
    "colab": {
     "base_uri": "https://localhost:8080/",
     "height": 332
    },
    "id": "6jnwrSiUK5d9",
    "outputId": "fd2242c4-2149-48cb-9617-cc75d817070e"
   },
   "outputs": [],
   "source": [
    "# Read in images from a filepath as graycsale.\n",
    "rootpath='./'\n",
    "gray = cv2.imread(os.path.join(rootpath, 'box.png'),cv2.IMREAD_GRAYSCALE)\n",
    "scene_gray = cv2.imread(os.path.join(rootpath, 'box_in_scene.png'),cv2.IMREAD_GRAYSCALE)\n",
    "\n",
    "# Optional: Create a modified image by adding scale invariance and rotation invariance\n",
    "\n",
    "#scene_gray = cv2.pyrDown(gray) #blurs an image and downsamples it\n",
    "#rows, cols = scene_gray.shape[:2] #in case this is not a greyscale image\n",
    "#rotation_matrix = cv2.getRotationMatrix2D((cols/2, rows/2), 45, 1) #calculate an affine matrix of 2D rotation\n",
    "#scene_gray = cv2.warpAffine(scene_gray, rotation_matrix, (cols, rows)) #apply an affine transformation to image\n",
    "\n",
    "\n",
    "# Display original image and scene image\n",
    "plt.subplots(figsize=(15, 15)) \n",
    "\n",
    "plt.subplot(1,2,1)\n",
    "plt.imshow(gray, cmap='gray')  \n",
    "plt.title('Original Image')\n",
    "plt.axis('off')\n",
    "\n",
    "plt.subplot(1,2,2)\n",
    "plt.imshow(scene_gray, cmap='gray')  \n",
    "plt.title('Scene Image')\n",
    "plt.axis('off')\n",
    "\n",
    "plt.show() "
   ]
  },
  {
   "cell_type": "code",
   "execution_count": null,
   "metadata": {
    "colab": {
     "base_uri": "https://localhost:8080/",
     "height": 625
    },
    "id": "Q1rjjbcQK5d-",
    "outputId": "f660b485-25e9-453c-862e-a68e1ec38f6e"
   },
   "outputs": [],
   "source": [
    "# Initiate SIFT detector\n",
    "sift = cv2.SIFT_create() # if cv2 version >= 4.4.0 \n",
    "# sift = cv2.xfeatures2d.SIFT_create() # if cv2 version = 4.3.x \n",
    "\n",
    "# Compute SIFT keypoints and descriptors\n",
    "kp1, des1 = sift.detectAndCompute(gray,None)\n",
    "kp2, des2 = sift.detectAndCompute(scene_gray,None)\n",
    "\n",
    "# Draws the small circles on the locations of keypoints without size\n",
    "kp1_without_size = cv2.drawKeypoints(gray,kp1,None\n",
    "                                     #, color = (0, 0, 255) #If you want a specific colour\n",
    "                                    )\n",
    "kp2_without_size = cv2.drawKeypoints(scene_gray,kp2,None\n",
    "                                     #, color = (0, 0, 255) #If you want a specific colour\n",
    "                                    )\n",
    "\n",
    "# Draws a circle with the size of each keypoint and show its orientation\n",
    "kp1_with_size = cv2.drawKeypoints(gray,kp1,None,flags=cv2.DRAW_MATCHES_FLAGS_DRAW_RICH_KEYPOINTS)\n",
    "kp2_with_size = cv2.drawKeypoints(scene_gray,kp2,None,flags=cv2.DRAW_MATCHES_FLAGS_DRAW_RICH_KEYPOINTS)\n",
    "\n",
    "\n",
    "# Display images with&without the size of keypoints \n",
    "plt.subplots(figsize=(15, 10)) \n",
    "\n",
    "plt.subplot(2,2,1)\n",
    "plt.imshow(kp1_without_size, cmap='gray')  \n",
    "plt.title('Original Image keypoints without size')\n",
    "plt.axis('off')\n",
    "\n",
    "plt.subplot(2,2,2)\n",
    "plt.imshow(kp2_without_size, cmap='gray')  \n",
    "plt.title('Scene Image keypoints without size')\n",
    "plt.axis('off')\n",
    "\n",
    "plt.subplot(2,2,3)\n",
    "plt.imshow(kp1_with_size, cmap='gray')  \n",
    "plt.title('Original Image keypoints with size')\n",
    "plt.axis('off')\n",
    "\n",
    "plt.subplot(2,2,4)\n",
    "plt.imshow(kp2_with_size, cmap='gray')  \n",
    "plt.title('Scene Image keypoints with size')\n",
    "plt.axis('off')\n",
    "\n",
    "plt.show() \n",
    "\n",
    "# Print the number of keypoints detected\n",
    "print(\"Number of keypoints detected in the original image: \", len(kp1))\n",
    "print(\"Number of keypoints detected in the Scene image: \", len(kp2))"
   ]
  },
  {
   "cell_type": "markdown",
   "metadata": {
    "id": "X4xvROkiK5d-"
   },
   "source": [
    "#### Now we've got the keypoints, descriptors and so on. Now we are going to see how to match keypoints in different images."
   ]
  },
  {
   "cell_type": "markdown",
   "metadata": {
    "id": "xiULcoe-K5d-"
   },
   "source": [
    "## (3) FLANN based Matcher"
   ]
  },
  {
   "cell_type": "markdown",
   "metadata": {
    "id": "i8U6b6MjK5d-"
   },
   "source": [
    "#### FLANN (Fast Library for Approximate Nearest Neighbors) contains a collection of algorithms optimized for fast nearest neighbor search in large datasets and for high dimensional features. \n",
    "\n",
    "When performing matching, the KNN algorithm is generally used to find the two nearest neighbours. If the ratio between the closest and second closest is greater than a given value, then we keep this closest value and consider it and its matching point as a good match.\n",
    "\n",
    "For further understanding, see:\n",
    "\n",
    "- [FLANN based Matcher](https://docs.opencv.org/4.5.2/dc/dc3/tutorial_py_matcher.html#flann-based-matcher)\n",
    "\n",
    "More information on the functions used below, see:\n",
    "\n",
    "- [FlannBasedMatcher Class Reference](https://docs.opencv.org/4.5.2/dc/de2/classcv_1_1FlannBasedMatcher.html)\n",
    "- [cv2.drawMatchesKnn( )](https://docs.opencv.org/4.5.2/d4/d5d/group__features2d__draw.html#gad8f463ccaf0dc6f61083abd8717c261a)"
   ]
  },
  {
   "cell_type": "code",
   "execution_count": null,
   "metadata": {
    "colab": {
     "base_uri": "https://localhost:8080/",
     "height": 466
    },
    "id": "V1J5YlG0K5d-",
    "outputId": "56593495-ccf7-4473-f31a-4ec1c203838d"
   },
   "outputs": [],
   "source": [
    "# FLANN parameters and initialize\n",
    "FLANN_INDEX_KDTREE = 1\n",
    "index_params = dict(algorithm = FLANN_INDEX_KDTREE, trees = 5)\n",
    "search_params = dict(checks=50)   # or pass empty dictionary\n",
    "flann = cv2.FlannBasedMatcher(index_params,search_params)\n",
    "\n",
    "# Matching descriptor using KNN algorithm\n",
    "matches = flann.knnMatch(des1,des2,k=2)\n",
    "\n",
    "# Create a mask to draw all good matches\n",
    "matchesMask = []\n",
    "\n",
    "# Store all good matches as per Lowe's Ratio test.\n",
    "good = []\n",
    "for m,n in matches:\n",
    "    if m.distance < 0.7*n.distance:\n",
    "        good.append(m)\n",
    "        matchesMask.append([1,0]) # Match\n",
    "    else:\n",
    "        matchesMask.append([0,0]) # Mismatch\n",
    "       \n",
    "        \n",
    "# Draw all good matches\n",
    "draw_params = dict(#matchColor = (0,255,0),  #If you want a specific colour\n",
    "                   #singlePointColor = (255,0,0), #If you want a specific colour\n",
    "                    matchesMask = matchesMask,\n",
    "                    flags = cv2.DrawMatchesFlags_DEFAULT)\n",
    "\n",
    "good_matches = cv2.drawMatchesKnn(gray,kp1,scene_gray,kp2,matches,None,**draw_params)\n",
    "\n",
    "\n",
    "plt.figure(figsize=(15, 15))\n",
    "\n",
    "plt.imshow(good_matches)\n",
    "plt.title('All good matches')\n",
    "plt.axis('off')\n",
    "\n",
    "plt.show()\n",
    "\n",
    "# Print total number of good matches between two images\n",
    "print(\"\\nNumber of good matches between two images: \", len(good))"
   ]
  },
  {
   "cell_type": "markdown",
   "metadata": {
    "id": "6dMsqzECK5d-"
   },
   "source": [
    "## (4) Feature matching + homography to find objects"
   ]
  },
  {
   "cell_type": "markdown",
   "metadata": {
    "id": "uskExuKsK5d-"
   },
   "source": [
    "We have found a number of matching points in two images by following the steps above. How do we align one of the images with the other by rotating, transforming, etc.? This is where the homography matrix comes into play.\n",
    "\n",
    "The homography matrix has eight parameters. Since each corresponding pixel point can generate 2 equations (one x, one y), then only a minimum of four pixel points are enough to solve the Homography matrix.\n",
    "\n",
    "\n",
    "More information on the functions used below, see:\n",
    "\n",
    "- [cv2.findHomography( )](https://docs.opencv.org/4.5.2/d9/d0c/group__calib3d.html#ga4abc2ece9fab9398f2e560d53c8c9780)\n",
    "\n",
    "- [cv2.warpPerspective( )](https://docs.opencv.org/4.5.2/da/d54/group__imgproc__transform.html#gaf73673a7e8e18ec6963e3774e6a94b87)\n",
    "\n",
    "- [cv2.drawMatches( )](https://docs.opencv.org/4.5.2/d4/d5d/group__features2d__draw.html#gad8f463ccaf0dc6f61083abd8717c261a)"
   ]
  },
  {
   "cell_type": "code",
   "execution_count": null,
   "metadata": {
    "colab": {
     "base_uri": "https://localhost:8080/",
     "height": 897
    },
    "id": "lTUH67bcK5d_",
    "outputId": "32af15c8-1baa-4ac0-cd83-f753840b7b11"
   },
   "outputs": [],
   "source": [
    "# Now we set a condition that at least N matches (defined by MIN_MATCH_NUM) are required to find the object. \n",
    "MIN_MATCH_NUM = 4\n",
    "\n",
    "if len(good)>= MIN_MATCH_NUM:\n",
    "    # If enough matches are found, we extract the positions of the matched keypoints in both images. \n",
    "    # They are passed to find the perspective transformation. \n",
    "    \n",
    "    # Estimate homography between two images\n",
    "    ptsA = np.float32([kp1[m.queryIdx].pt for m in good]).reshape(-1,1,2)\n",
    "    ptsB = np.float32([kp2[m.trainIdx].pt for m in good]).reshape(-1,1,2)\n",
    "    H, status = cv2.findHomography(ptsA, \n",
    "                                   ptsB, \n",
    "                                   cv2.RANSAC, \n",
    "                                   ransacReprojThreshold = 5, \n",
    "                                   maxIters = 10) # try to change maxIters and see the effect\n",
    "    # Where H is the resulting single-strain matrix.\n",
    "    # status returns a list of feature points that represent successful matches.\n",
    "    # ptsA, ptsB are keypoints.\n",
    "    # The three parameters cv2.RANSAC, ransacReprojThreshold, maxIters are related to RANSAC.\n",
    "    # ransacReprojThreshold: Maximum reprojection error in the RANSAC algorithm to consider a point as an inlier. \n",
    "    # maxIters: The maximum number of RANSAC-based robust method iterations.\n",
    "    \n",
    "    success = status.ravel().tolist()\n",
    "    \n",
    "    # Draw detected template in scene image\n",
    "    imgOut = cv2.warpPerspective(scene_gray, H, (gray.shape[1],gray.shape[0]),\n",
    "                             flags=cv2.INTER_LINEAR + cv2.WARP_INVERSE_MAP)\n",
    "    \n",
    "    # Print total number of successful matches between two images\n",
    "    print(\"\\nNumber of successful matches between two images: \", success.count(1)) # Returns the number of 1 in the success list\n",
    "\n",
    "else:\n",
    "    # Otherwise, print that “Not enough matches are found”.\n",
    "    print( \"Not enough matches are found - {}/{}\".format(len(good), MIN_MATCH_NUM) )\n",
    "    success = None\n",
    "\n",
    "\n",
    "# Draw our inliers (if successfully found the object) or all matching keypoints (if failed)\n",
    "draw_params = dict(#matchColor = (0,255,0), # draw in a specific colour\n",
    "                   #singlePointColor = (255,0,0), # draw in a specific colour\n",
    "                   matchesMask = success, # draw only inliers\n",
    "                   flags = 2)\n",
    "\n",
    "success_matches = cv2.drawMatches(gray,kp1,scene_gray,kp2,good,None,**draw_params)\n",
    "\n",
    "\n",
    "# Plotting results\n",
    "plt.subplots(figsize=(15, 15)) \n",
    "\n",
    "if success == None:\n",
    "    plt.imshow(success_matches)\n",
    "    plt.title('All matching keypoints')\n",
    "    plt.axis('off')\n",
    "    \n",
    "else:\n",
    "    plt.subplot(2,1,1)\n",
    "    plt.imshow(success_matches)\n",
    "    plt.title('All successful matches')\n",
    "    plt.axis('off')\n",
    "    \n",
    "    plt.subplot(2,1,2)\n",
    "    plt.imshow(imgOut, 'gray')\n",
    "    plt.title('Display detected template in scene image')\n",
    "    plt.axis('off')\n",
    "\n",
    "plt.show()"
   ]
  },
  {
   "cell_type": "markdown",
   "metadata": {
    "id": "qKy6M2uDK5d_"
   },
   "source": [
    "# Exercise"
   ]
  },
  {
   "cell_type": "markdown",
   "metadata": {
    "id": "d25GpcDhK5d_"
   },
   "source": [
    "## Exercise 1\n",
    "\n",
    "- Implement Canny edge detection and Hough transform to detect the grid in the checkerboard.\n",
    "- Change the threshold of the HoughLines function. What happens as you increase/decrease the threshold?"
   ]
  },
  {
   "cell_type": "code",
   "execution_count": null,
   "metadata": {
    "id": "cIyhISyzK5d_"
   },
   "outputs": [],
   "source": [
    "# Read in an image from a filepath as graycsale.\n",
    "rootpath='./'\n",
    "checkerboard = cv2.imread(os.path.join(rootpath, \"checkerboard.png\"),cv2.IMREAD_GRAYSCALE)"
   ]
  },
  {
   "cell_type": "code",
   "execution_count": null,
   "metadata": {
    "id": "IoAVFGx9K5d_"
   },
   "outputs": [],
   "source": [
    "# your code"
   ]
  },
  {
   "cell_type": "markdown",
   "metadata": {
    "id": "JjR8TrS3K5d_"
   },
   "source": [
    "### Exercise 1 Solution"
   ]
  },
  {
   "cell_type": "markdown",
   "metadata": {
    "id": "sGW_dJV1K5d_"
   },
   "source": [
    "Answer: fewer/more lines (but with lower thresholds, the lines may be worse, since they will be accepted with fewer \"votes\")"
   ]
  },
  {
   "cell_type": "markdown",
   "metadata": {
    "id": "z4zjwt4BK5d_"
   },
   "source": [
    "The code here is only a reference solution. The aim of the exercise is to understand the effect of different parameters on the results. Different parameters are accepted."
   ]
  },
  {
   "cell_type": "code",
   "execution_count": null,
   "metadata": {
    "colab": {
     "base_uri": "https://localhost:8080/",
     "height": 293
    },
    "id": "RReTwkkVK5d_",
    "outputId": "56bf6856-3cbc-4004-88a9-9de1e8ced2c3"
   },
   "outputs": [],
   "source": [
    "# Canny edge detection with OpenCV\n",
    "board_edge = cv2.Canny(checkerboard,50,250,apertureSize=3,L2gradient=True)\n",
    "\n",
    "# Sandard Hough transform\n",
    "lines = cv2.HoughLines(board_edge, 1, np.pi/180, 120)  \n",
    "\n",
    "# Convert the grayscale map to RGB format.\n",
    "color_board = cv2.cvtColor(checkerboard, cv2.COLOR_GRAY2RGB)\n",
    "\n",
    "# Drawing the lines\n",
    "for line in lines:\n",
    "    rho,theta = line[0]\n",
    "    a = np.cos(theta)\n",
    "    b = np.sin(theta)\n",
    "    x0 = a*rho\n",
    "    y0 = b*rho\n",
    "    pt1 = (int(x0 + 1000*(-b)),int(y0 + 1000*(a)))\n",
    "    pt2 = (int(x0 - 1000*(-b)),int(y0 - 1000*(a)))\n",
    "    # Draws a line segment connecting two points, colour=(255,0,0) and thickness=2.\n",
    "    cv2.line(color_board,pt1,pt2,(255,0,0),2)\n",
    "\n",
    "                                                  \n",
    "plt.subplots(figsize=(15, 15)) \n",
    "\n",
    "plt.subplot(1,3,1)\n",
    "plt.imshow(checkerboard, cmap='gray')  \n",
    "plt.title('Original image')\n",
    "plt.axis('off')\n",
    "\n",
    "plt.subplot(1,3,2)\n",
    "plt.imshow(board_edge, cmap='gray')  \n",
    "plt.title('Canny edge map')\n",
    "plt.axis('off')\n",
    "\n",
    "plt.subplot(1,3,3)\n",
    "plt.imshow(color_board) \n",
    "plt.title(\"Detected Lines (in red)\")\n",
    "plt.axis('off')\n",
    "\n",
    "plt.show() "
   ]
  },
  {
   "cell_type": "markdown",
   "metadata": {
    "id": "mG5kTM3DK5d_"
   },
   "source": [
    "## Exercise 2\n",
    "\n",
    "- Use SIFT+RANSAC to match the close-up views of buildings to the larger scenes. Note that this may require changing the ratio used in the Lowe's ratio test step of FLANN matcher and/or the maxIters parameter of the RANSAC step. \n",
    "- What is the effect of changing these parameters?"
   ]
  },
  {
   "cell_type": "code",
   "execution_count": null,
   "metadata": {
    "colab": {
     "base_uri": "https://localhost:8080/",
     "height": 590
    },
    "id": "aaFdgXzPK5eA",
    "outputId": "a64e598c-3e10-4e03-ada8-9d1e84036acc"
   },
   "outputs": [],
   "source": [
    "# Read in close-up views of buildings images and the larger scenes images as graycsale.\n",
    "rootpath='./'\n",
    "flinders1 = cv2.imread(os.path.join(rootpath, \"flinders1.png\"),cv2.IMREAD_GRAYSCALE) \n",
    "flinders2 = cv2.imread(os.path.join(rootpath, \"flinders2.png\"),cv2.IMREAD_GRAYSCALE) \n",
    "unimelb1 = cv2.imread(os.path.join(rootpath, \"unimelb1.png\"),cv2.IMREAD_GRAYSCALE)\n",
    "unimelb2 = cv2.imread(os.path.join(rootpath, \"unimelb2.png\"),cv2.IMREAD_GRAYSCALE)\n",
    "\n",
    "# Display original image and scene image\n",
    "plt.subplots(figsize=(10, 10)) \n",
    "\n",
    "plt.subplot(2,2,1)\n",
    "plt.imshow(flinders1, cmap='gray')  \n",
    "plt.title('Close-up views of Flinders Station ')\n",
    "plt.axis('off')\n",
    "\n",
    "plt.subplot(2,2,2)\n",
    "plt.imshow(flinders2, cmap='gray')  \n",
    "plt.title('Larger scenes of Flinders Station')\n",
    "plt.axis('off')\n",
    "\n",
    "plt.subplot(2,2,3)\n",
    "plt.imshow(unimelb1, cmap='gray')  \n",
    "plt.title('Close-up views of Unimelb Old Arts Clock Tower')\n",
    "plt.axis('off')\n",
    "\n",
    "plt.subplot(2,2,4)\n",
    "plt.imshow(unimelb2, cmap='gray')  \n",
    "plt.title('Larger scenes of Unimelb Old Arts Clock Tower')\n",
    "plt.axis('off')\n",
    "\n",
    "plt.show() "
   ]
  },
  {
   "cell_type": "markdown",
   "metadata": {
    "id": "PMdYrLgnK5eA"
   },
   "source": [
    "### Exercise 2 Solution\n",
    "\n",
    "Answer: Both of these are a bit more difficult than the box scene, so they may require a different ratio (which changes the number of good matches and percentage of false matches). They may also require a higher number of RANSAC iterations to find a correct solution."
   ]
  },
  {
   "cell_type": "markdown",
   "metadata": {
    "id": "LG8eNq5RK5eA"
   },
   "source": [
    "The code here is only a reference solution. The aim of the exercise is to understand the effect of changing these parameters. Different parameters are accepted."
   ]
  },
  {
   "cell_type": "markdown",
   "metadata": {
    "id": "h4fs1ktYK5eA"
   },
   "source": [
    "Flinders Station"
   ]
  },
  {
   "cell_type": "code",
   "execution_count": null,
   "metadata": {
    "colab": {
     "base_uri": "https://localhost:8080/",
     "height": 625
    },
    "id": "bg4YHxTUK5eA",
    "outputId": "774efc94-16ca-42c3-f864-c32f2b267ad1"
   },
   "outputs": [],
   "source": [
    "# Initiate SIFT detector\n",
    "sift = cv2.SIFT_create() # if cv2 version >= 4.4.0 \n",
    "# sift = cv2.xfeatures2d.SIFT_create() # if cv2 version = 4.3.x \n",
    "\n",
    "# Compute SIFT keypoints and descriptors\n",
    "kp1, des1 = sift.detectAndCompute(flinders1,None)\n",
    "kp2, des2 = sift.detectAndCompute(flinders2,None)\n",
    "\n",
    "# FLANN parameters and initialize\n",
    "FLANN_INDEX_KDTREE = 1\n",
    "index_params = dict(algorithm = FLANN_INDEX_KDTREE, trees = 5)\n",
    "search_params = dict(checks=50)   # or pass empty dictionary\n",
    "flann = cv2.FlannBasedMatcher(index_params,search_params)\n",
    "\n",
    "# Matching descriptor using KNN algorithm\n",
    "matches = flann.knnMatch(des1,des2,k=2)\n",
    "\n",
    "# Store all good matches as per Lowe's Ratio test.\n",
    "ratio = 0.6\n",
    "good = []\n",
    "for m,n in matches:\n",
    "    if m.distance < ratio*n.distance:\n",
    "        good.append(m)\n",
    "\n",
    "# Set a condition that at least MIN_MATCH_NUM matches are required to find the object. \n",
    "MIN_MATCH_NUM = 4\n",
    "\n",
    "if len(good)> MIN_MATCH_NUM:\n",
    "    # If enough matches are found, we extract the positions of the matched keypoints in both images. \n",
    "    # They are passed to find the perspective transformation. \n",
    "    \n",
    "    # Estimate homography between two images\n",
    "    ptsA = np.float32([kp1[m.queryIdx].pt for m in good]).reshape(-1,1,2)\n",
    "    ptsB = np.float32([kp2[m.trainIdx].pt for m in good]).reshape(-1,1,2)\n",
    "    H, status = cv2.findHomography(ptsA, \n",
    "                                   ptsB, \n",
    "                                   cv2.RANSAC, \n",
    "                                   ransacReprojThreshold = 5, \n",
    "                                   maxIters = 500)\n",
    "\n",
    "    matchesMask = status.ravel().tolist()\n",
    "\n",
    "    # Draw detected template in scene image\n",
    "    imgOut = cv2.warpPerspective(flinders2, H, (flinders1.shape[1],flinders1.shape[0]),\n",
    "                             flags=cv2.INTER_LINEAR + cv2.WARP_INVERSE_MAP)\n",
    "    \n",
    "    # Print total number of successful matches between two images\n",
    "    print(\"\\nNumber of successful matches between two images: \", matchesMask.count(1)) # Returns the number of 1 in the success list\n",
    "\n",
    "else:\n",
    "    # Otherwise, print that “Not enough matches are found”.\n",
    "    print( \"Not enough matches are found - {}/{}\".format(len(good), MIN_MATCH_NUM) )\n",
    "    matchesMask = None\n",
    "\n",
    "\n",
    "# Draw our inliers (if successfully found the object) or all matching keypoints (if failed)\n",
    "draw_params = dict(matchColor = (0,255,0), # draw in a specific colour\n",
    "                   singlePointColor = (255,0,0), # draw in a specific colour\n",
    "                   matchesMask = matchesMask, # draw only inliers\n",
    "                   flags = 2)\n",
    "\n",
    "success_matches = cv2.drawMatches(flinders1,kp1,flinders2,kp2,good,None,**draw_params)\n",
    "\n",
    "\n",
    "# Plotting results\n",
    "plt.subplots(figsize=(10, 10)) \n",
    "\n",
    "if matchesMask == None:\n",
    "    plt.imshow(success_matches)\n",
    "    plt.title('All matching keypoints')\n",
    "    plt.axis('off')\n",
    "    \n",
    "else:\n",
    "    plt.subplot(2,1,1)\n",
    "    plt.imshow(success_matches)\n",
    "    plt.title('All successful matches')\n",
    "    plt.axis('off')\n",
    "    \n",
    "    plt.subplot(2,1,2)\n",
    "    plt.imshow(imgOut, 'gray')\n",
    "    plt.title('Display detected template in scene image')\n",
    "    plt.axis('off')\n",
    "\n",
    "plt.show()"
   ]
  },
  {
   "cell_type": "markdown",
   "metadata": {
    "id": "vxHfUGLGK5eA"
   },
   "source": [
    "Unimelb Old Arts Clock Tower"
   ]
  },
  {
   "cell_type": "code",
   "execution_count": null,
   "metadata": {
    "colab": {
     "base_uri": "https://localhost:8080/",
     "height": 625
    },
    "id": "dMT0KHTIK5eA",
    "outputId": "9769902c-4b9a-4948-968f-3bc938e6050d"
   },
   "outputs": [],
   "source": [
    "# Initiate SIFT detector\n",
    "sift = cv2.SIFT_create() # if cv2 version >= 4.4.0 \n",
    "# sift = cv2.xfeatures2d.SIFT_create() # if cv2 version = 4.3.x \n",
    "\n",
    "# Compute SIFT keypoints and descriptors\n",
    "kp1, des1 = sift.detectAndCompute(unimelb1,None)\n",
    "kp2, des2 = sift.detectAndCompute(unimelb2,None)\n",
    "\n",
    "# FLANN parameters and initialize\n",
    "FLANN_INDEX_KDTREE = 1\n",
    "index_params = dict(algorithm = FLANN_INDEX_KDTREE, trees = 5)\n",
    "search_params = dict(checks=50)   # or pass empty dictionary\n",
    "flann = cv2.FlannBasedMatcher(index_params,search_params)\n",
    "\n",
    "# Matching descriptor using KNN algorithm\n",
    "matches = flann.knnMatch(des1,des2,k=2)\n",
    "\n",
    "# Store all good matches as per Lowe's Ratio test.\n",
    "good = []\n",
    "for m,n in matches:\n",
    "    if m.distance < 0.8*n.distance:\n",
    "        good.append(m)\n",
    "\n",
    "# Set a condition that at least MIN_MATCH_NUM matches are required to find the object. \n",
    "MIN_MATCH_NUM = 4\n",
    "\n",
    "if len(good)> MIN_MATCH_NUM:\n",
    "    # If enough matches are found, we extract the positions of the matched keypoints in both images. \n",
    "    # They are passed to find the perspective transformation. \n",
    "    \n",
    "    # Estimate homography between two images\n",
    "    ptsA = np.float32([kp1[m.queryIdx].pt for m in good]).reshape(-1,1,2)\n",
    "    ptsB = np.float32([kp2[m.trainIdx].pt for m in good]).reshape(-1,1,2)\n",
    "    H, status = cv2.findHomography(ptsA, \n",
    "                                   ptsB, \n",
    "                                   cv2.RANSAC, \n",
    "                                   ransacReprojThreshold = 5, \n",
    "                                   maxIters = 200)\n",
    "\n",
    "    matchesMask = status.ravel().tolist()\n",
    "\n",
    "    # Draw detected template in scene image\n",
    "    imgOut = cv2.warpPerspective(unimelb2, H, (unimelb1.shape[1],unimelb1.shape[0]),\n",
    "                             flags=cv2.INTER_LINEAR + cv2.WARP_INVERSE_MAP)\n",
    "    \n",
    "    # Print total number of successful matches between two images\n",
    "    print(\"\\nNumber of successful matches between two images: \", matchesMask.count(1)) # Returns the number of 1 in the success list\n",
    "\n",
    "else:\n",
    "    # Otherwise, print that “Not enough matches are found”.\n",
    "    print( \"Not enough matches are found - {}/{}\".format(len(good), MIN_MATCH_NUM) )\n",
    "    matchesMask = None\n",
    "\n",
    "\n",
    "# Draw our inliers (if successfully found the object) or all matching keypoints (if failed)\n",
    "draw_params = dict(#matchColor = (0,255,0), # draw in a specific colour\n",
    "                   #singlePointColor = (255,0,0), # draw in a specific colour\n",
    "                   matchesMask = matchesMask, # draw only inliers\n",
    "                   flags = 2)\n",
    "\n",
    "success_matches = cv2.drawMatches(unimelb1,kp1,unimelb2,kp2,good,None,**draw_params)\n",
    "\n",
    "\n",
    "# Plotting results\n",
    "plt.subplots(figsize=(10, 10)) \n",
    "\n",
    "if matchesMask == None:\n",
    "    plt.imshow(success_matches)\n",
    "    plt.title('All matching keypoints')\n",
    "    plt.axis('off')\n",
    "    \n",
    "else:\n",
    "    plt.subplot(2,1,1)\n",
    "    plt.imshow(success_matches)\n",
    "    plt.title('All successful matches')\n",
    "    plt.axis('off')\n",
    "    \n",
    "    plt.subplot(2,1,2)\n",
    "    plt.imshow(imgOut, 'gray')\n",
    "    plt.title('Display detected template in scene image')\n",
    "    plt.axis('off')\n",
    "\n",
    "plt.show()"
   ]
  },
  {
   "cell_type": "markdown",
   "metadata": {
    "id": "nnYDa8TbK5eA"
   },
   "source": [
    "## Exercise 3\n",
    "\n",
    "\n",
    "- Implement the RANSAC algorithm step by step by filling in the three main steps of the RANSAC loop"
   ]
  },
  {
   "cell_type": "markdown",
   "metadata": {
    "id": "VZ593DkXK5eA"
   },
   "source": [
    "### Exercise 3 Solution\n",
    "\n",
    "Adapted from: https://salzis.wordpress.com/2014/06/10/robust-linear-model-estimation-using-ransac-python-implementation/"
   ]
  },
  {
   "cell_type": "markdown",
   "metadata": {
    "id": "_T_eIL_iK5eA"
   },
   "source": [
    "Set up the dataset:"
   ]
  },
  {
   "cell_type": "code",
   "execution_count": null,
   "metadata": {
    "id": "jbPshkJHK5eA"
   },
   "outputs": [],
   "source": [
    "import math\n",
    "import sys\n",
    " \n",
    "# Ransac parameters\n",
    "ransac_iterations = 20  # number of iterations\n",
    "ransac_threshold = 3    # threshold\n",
    "ransac_ratio = 0.6      # ratio of inliers required to assert\n",
    "                        # that a model fits well to data\n",
    "\n",
    "# generate sparse input data\n",
    "n_samples = 500               # number of input points\n",
    "outliers_ratio = 0.4          # ratio of outliers\n",
    " \n",
    "n_inputs = 1\n",
    "n_outputs = 1\n",
    " \n",
    "# generate samples\n",
    "x = 30*np.random.random((n_samples,n_inputs) )\n",
    " \n",
    "# generate line's slope (called here perfect fit)\n",
    "perfect_fit = 0.5*np.random.normal(size=(n_inputs,n_outputs) )\n",
    " \n",
    "# compute output\n",
    "y = np.dot(x,perfect_fit)\n",
    "\n",
    "# add a little gaussian noise\n",
    "x_noise = x + np.random.normal(size=x.shape)\n",
    "y_noise = y + np.random.normal(size=y.shape)\n",
    " \n",
    "# add some outliers to the point-set\n",
    "n_outliers = round(outliers_ratio*n_samples)\n",
    "indices = np.arange(x_noise.shape[0])\n",
    "np.random.shuffle(indices)\n",
    "outlier_indices = indices[:n_outliers]\n",
    " \n",
    "x_noise[outlier_indices] = 30*np.random.random(size=(n_outliers,n_inputs))\n",
    " \n",
    "# gaussian outliers\n",
    "y_noise[outlier_indices] = 30*np.random.normal(size=(n_outliers,n_outputs))"
   ]
  },
  {
   "cell_type": "markdown",
   "metadata": {
    "id": "47JuunRAK5eB"
   },
   "source": [
    "These two functions will be called by the RANSAC loop: `find_line_model()` fits a line to sample points and `dist_to_line()` computes the distance from a sample point to the closest point on a line."
   ]
  },
  {
   "cell_type": "code",
   "execution_count": null,
   "metadata": {
    "id": "oyI1DW1fK5eB"
   },
   "outputs": [],
   "source": [
    "def find_line_model(points):\n",
    "    \"\"\" find a line model for the given points\n",
    "    :param points selected points for model fitting\n",
    "    :return line model\n",
    "    \"\"\"\n",
    " \n",
    "    # [WARNING] vertical and horizontal lines should be treated differently\n",
    "    #           here we just add some noise to avoid division by zero\n",
    " \n",
    "    # find a line model for these points\n",
    "    m = (points[1,1] - points[0,1]) / (points[1,0] - points[0,0] + sys.float_info.epsilon)  # slope (gradient) of the line\n",
    "    c = points[1,1] - m * points[1,0]                                     # y-intercept of the line\n",
    " \n",
    "    return m, c\n",
    "\n",
    "def find_dist_to_line(m, c, x0, y0):\n",
    "    \"\"\" find an intercept point of the line model with\n",
    "        a normal from point (x0,y0) to it, return\n",
    "        distance betwee point (x0, y0) and intercept\n",
    "    :param m slope of the line model\n",
    "    :param c y-intercept of the line model\n",
    "    :param x0 point's x coordinate\n",
    "    :param y0 point's y coordinate\n",
    "    :return intercept point\n",
    "    \"\"\"\n",
    " \n",
    "    # intersection point with the model\n",
    "    x = (x0 + m*y0 - m*c)/(1 + m**2)\n",
    "    y = (m*x0 + (m**2)*y0 - (m**2)*c)/(1 + m**2) + c\n",
    "    dist = math.sqrt((x - x0)**2 + (y - y0)**2)\n",
    " \n",
    "    return dist"
   ]
  },
  {
   "cell_type": "markdown",
   "metadata": {
    "id": "wkVwmqSVK5eB"
   },
   "source": [
    "A function for plotting the RANSAC iterations:"
   ]
  },
  {
   "cell_type": "code",
   "execution_count": null,
   "metadata": {
    "id": "nIwiygU0K5eB"
   },
   "outputs": [],
   "source": [
    "def ransac_plot(n, x, y, m, c, x_in=(), y_in=(), points=()):\n",
    "    \"\"\" plot the current RANSAC step\n",
    "    :param n      iteration\n",
    "    :param x      samples x\n",
    "    :param y      samples y\n",
    "    :param m      slope of the line model\n",
    "    :param c      shift of the line model\n",
    "    :param x_in   inliers x\n",
    "    :param y_in   inliers y\n",
    "    :param points picked up points for modeling\n",
    "    \"\"\"\n",
    "\n",
    "    line_width = 1.\n",
    "    line_color = '#0080ff'\n",
    "    title = 'iteration ' + str(n)\n",
    "\n",
    "    plt.figure(figsize=(5,5))\n",
    "\n",
    "    # plot input points\n",
    "    plt.plot(x[:,0], y[:,0], marker='o', label='Input points', color='#00cc00', linestyle='None', alpha=0.4)\n",
    " \n",
    "    # draw the current model\n",
    "    plt.plot(x, m*x + c, 'r', label='Line model', color=line_color, linewidth=line_width)\n",
    " \n",
    "    # draw inliers, if provided\n",
    "    if len(x_in) > 0:\n",
    "        plt.plot(x_in, y_in, marker='o', label='Inliers', linestyle='None', color='#ff0000', alpha=0.6)\n",
    " \n",
    "    # draw points picked up for the modeling, if provided\n",
    "    if len(points) > 0:\n",
    "        plt.plot(points[:,0], points[:,1], marker='o', label='Picked points', color='#0000cc', linestyle='None', alpha=0.6)\n",
    " \n",
    "    plt.title(title)\n",
    "    plt.legend()\n",
    "    plt.show()"
   ]
  },
  {
   "cell_type": "markdown",
   "metadata": {
    "id": "OzB00SUwK5eB"
   },
   "source": [
    "The main RANSAC loop:"
   ]
  },
  {
   "cell_type": "code",
   "execution_count": null,
   "metadata": {
    "colab": {
     "base_uri": "https://localhost:8080/",
     "height": 1000
    },
    "id": "VSs9dqyKK5eB",
    "outputId": "78b0f82a-dd3b-4bf4-e28f-edf20b810e7c"
   },
   "outputs": [],
   "source": [
    "data = np.hstack( (x_noise,y_noise) )\n",
    " \n",
    "ratio = 0.\n",
    "model_m = 0.\n",
    "model_c = 0.\n",
    " \n",
    "# perform RANSAC iterations\n",
    "for it in range(ransac_iterations):\n",
    " \n",
    "    # randomly sample N points\n",
    "    n = 2\n",
    " \n",
    "    all_indices = np.arange(x_noise.shape[0])\n",
    "    np.random.shuffle(all_indices)\n",
    " \n",
    "    indices_1 = all_indices[:n]\n",
    "    indices_2 = all_indices[n:]\n",
    " \n",
    "    sample_points = data[indices_1,:]\n",
    "    test_points = data[indices_2,:]\n",
    " \n",
    "    # fit a line model to the sampled points\n",
    "    m, c = find_line_model(sample_points)\n",
    " \n",
    "    x_list = []\n",
    "    y_list = []\n",
    "    num = 0\n",
    "\n",
    "    # count the number of inliers num\n",
    "    # inliers are points whose distance to the line is less than ransac_threshold\n",
    "    for ind in range(test_points.shape[0]):\n",
    " \n",
    "        x0 = test_points[ind,0]\n",
    "        y0 = test_points[ind,1]\n",
    " \n",
    "        # find an intercept point of the model with a normal from point (x0,y0)\n",
    "        dist = find_dist_to_line(m, c, x0, y0)\n",
    " \n",
    "        # check whether it's an inlier or not\n",
    "        if dist < ransac_threshold:\n",
    "            x_list.append(x0)\n",
    "            y_list.append(y0)\n",
    "            num += 1\n",
    " \n",
    "    x_inliers = np.array(x_list)\n",
    "    y_inliers = np.array(y_list)\n",
    " \n",
    "    # if this value of num is higher than previously saved value,\n",
    "    # save it, and save the current model parameters\n",
    "    if num/float(n_samples) > ratio:\n",
    "        ratio = num/float(n_samples)\n",
    "        model_m = m\n",
    "        model_c = c\n",
    " \n",
    "    print('   inlier ratio = ', num/float(n_samples))\n",
    "    print('  model_m = ', model_m)\n",
    "    print('  model_c = ', model_c)\n",
    " \n",
    "    # plot the current step with inliers and sample points\n",
    "    ransac_plot(it, x_noise, y_noise, m, c, x_inliers, y_inliers, sample_points)\n",
    "    # plot the current step without showing inliers or sample points\n",
    "    #ransac_plot(0, x_noise, y_noise, model_m, model_c)\n",
    " \n",
    "    # we are done in case we have enough inliers\n",
    "    if num > n_samples*ransac_ratio:\n",
    "        print('The model is found !')\n",
    "        break\n",
    "\n",
    "# plot the final model\n",
    "ransac_plot(0, x_noise, y_noise, model_m, model_c)\n",
    " \n",
    "print('\\nFinal model:\\n')\n",
    "print('  ratio = ', ratio)\n",
    "print('  model_m = ', model_m)\n",
    "print('  model_c = ', model_c)"
   ]
  },
  {
   "cell_type": "markdown",
   "metadata": {
    "id": "kpcIEpwbK5eB"
   },
   "source": [
    "## Exercise 4\n",
    "\n",
    "<img style=\"float:\" src=\"https://raw.githubusercontent.com/saraao/COMP90086_image/main/ball.png\" width=300>\n",
    "<img style=\"float:\" src=\"https://raw.githubusercontent.com/saraao/COMP90086_image/main/ball2.png\" width=300>\n",
    "\n",
    "An application needs to find a circle of unknown size in an image. It operates as follows:\n",
    "\n",
    "1. Detect edges\n",
    "2. RANSAC:\\\n",
    "    (1)\tSample 3 edge points  \n",
    "    (2) Fit a circle to those three points (three is enough to uniquely fit a circle)\\\n",
    "    (3)\tCount consensus\n",
    "    \n",
    "3. Report circle with maximum consensus\n",
    "    \n",
    "i) If the circle in the image has 10% of the edge pixels, calculate how many RANSAC iterations are needed to find it with 99% probability.\n",
    "\n",
    "A: log(0.01)/log(0.999) = 4603\n",
    "\n",
    "ii) How might the algorithm be modified to improve the accuracy of the estimated centre and radius of the circle?\n",
    "\n",
    "A: Re-estimate using all inliers."
   ]
  },
  {
   "cell_type": "code",
   "execution_count": null,
   "metadata": {},
   "outputs": [],
   "source": []
  }
 ],
 "metadata": {
  "colab": {
   "name": "worksheet07_solution.ipynb",
   "provenance": []
  },
  "kernelspec": {
   "display_name": "Python 3 (ipykernel)",
   "language": "python",
   "name": "python3"
  },
  "language_info": {
   "codemirror_mode": {
    "name": "ipython",
    "version": 3
   },
   "file_extension": ".py",
   "mimetype": "text/x-python",
   "name": "python",
   "nbconvert_exporter": "python",
   "pygments_lexer": "ipython3",
   "version": "3.9.17"
  }
 },
 "nbformat": 4,
 "nbformat_minor": 1
}
